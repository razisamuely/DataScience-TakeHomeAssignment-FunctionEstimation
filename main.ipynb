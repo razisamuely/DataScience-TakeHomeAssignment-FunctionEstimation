{
 "cells": [
  {
   "cell_type": "markdown",
   "id": "1b406b8f",
   "metadata": {},
   "source": [
    "# DataScience-TakeHomeAssignment-FunctionEstimation\n",
    "The purpose of this project is to address several questions from the \n",
    "DataScience-TakeHomeAssignment-FunctionEstimation \n",
    "that I received as part of the data science recruitment process."
   ]
  },
  {
   "cell_type": "markdown",
   "id": "dc1bac8d",
   "metadata": {},
   "source": [
    "## Question \n"
   ]
  },
  {
   "cell_type": "markdown",
   "id": "a8fc8665",
   "metadata": {},
   "source": [
    "There is an unknown continuous function, denoted by $x → y$, such that x belongs to the interval $[0,1]$ and y belongs to the interval $[0,1]$. \n",
    "\n",
    "There is also a function called `check_if_below which`, for each combination of x and y, returns False if the point is above the function and True if it's below the function. \n",
    "\n",
    "Your task is to estimate the area under this function. \n",
    "\n",
    "For example, if the function is $f(x) = x$, the points (0.1,0.2), (0.1,0.8), and (0.6,0.8) would have a value of 0, while (0.1,0.05), (0.1,0.02), and (0.6,0.1) would have a value of 1."
   ]
  },
  {
   "cell_type": "markdown",
   "id": "670fea63",
   "metadata": {},
   "source": [
    "#### Example for different functions\n",
    "\n",
    "**Note**: The following functions are of the form $f(x) = x^l$, where $l$ changes between each iteration. However, it's possible for the function to be any other continuous function, such as $f(x) = 0.5$ or $f(x) = sin(x)$, etc."
   ]
  },
  {
   "cell_type": "code",
   "execution_count": 25,
   "id": "7d874363",
   "metadata": {},
   "outputs": [],
   "source": [
    "plot_example_of_different_functions()"
   ]
  },
  {
   "cell_type": "markdown",
   "id": "cfcf3458",
   "metadata": {},
   "source": [
    "\n",
    "<p align=\"center\">\n",
    "    <img src=\"https://raw.githubusercontent.com/razisamuely/DataScience-TakeHomeAssignment-FunctionEstimation/main/data/random_continuse_function_detect_below_abov_points.gif\"  width=\"300\" height=\"230\">\n",
    "</p>"
   ]
  },
  {
   "cell_type": "markdown",
   "id": "38b2518e",
   "metadata": {},
   "source": [
    "# Solutio1 - Monte carlo simulation\n"
   ]
  },
  {
   "cell_type": "markdown",
   "id": "d2a4f74f",
   "metadata": {},
   "source": [
    "The maximum area under the unknown function is one, which allows us to use sampling to estimate the proportion of points that evaluate to True. \n",
    "\n",
    "The following steps can be taken:\n",
    "\n",
    "1. Generate n points from a uniform distribution (0,1)\n",
    "2. For each point, determine whether it falls above or below the unknown function\n",
    "3. Calculate the proportion of points that fall under the function\n",
    "\n",
    "For the sake of simplicity, let's assume that the unknown function is $f(x) = x$, as we know that the area under this function is 0.5."
   ]
  },
  {
   "cell_type": "code",
   "execution_count": 26,
   "id": "89210bab",
   "metadata": {},
   "outputs": [],
   "source": [
    "import pandas as pd \n",
    "import numpy as np\n",
    "from statsmodels.stats.proportion import proportion_confint\n",
    "from utils import (check_if_below, \n",
    "                   create_gif_of_MonteCarlo_simulation,\n",
    "                   find_y_value,\n",
    "                   find_y_value_with_plot,\n",
    "                  plot_example_of_different_functions)\n",
    "\n"
   ]
  },
  {
   "cell_type": "code",
   "execution_count": 7,
   "id": "a54767c0",
   "metadata": {},
   "outputs": [],
   "source": [
    "# 0. defining f(x) = x For the sake of simplicity\n",
    "def f_x(x:float):return x"
   ]
  },
  {
   "cell_type": "code",
   "execution_count": 8,
   "id": "5f68771a",
   "metadata": {},
   "outputs": [],
   "source": [
    "# 1. Generate n points from a uniform distribution (0,1)\n",
    "k = 1000\n",
    "uniform_sample = [ np.random.uniform(0,1,2) for i in range(k)]"
   ]
  },
  {
   "cell_type": "code",
   "execution_count": 9,
   "id": "6942ee77",
   "metadata": {},
   "outputs": [],
   "source": [
    "# 2. For each point, determine whether it falls above or below the unknown function\n",
    "c = 0 \n",
    "for x,y in uniform_sample:\n",
    "    c += check_if_below(x =x , y =y ,func = f_x)     "
   ]
  },
  {
   "cell_type": "code",
   "execution_count": 10,
   "id": "7250b2ba",
   "metadata": {},
   "outputs": [
    {
     "name": "stdout",
     "output_type": "stream",
     "text": [
      "0.488\n"
     ]
    }
   ],
   "source": [
    "# 3. Calculate the proportion of points that fall under the function\n",
    "p = c/k\n",
    "print(p)"
   ]
  },
  {
   "cell_type": "markdown",
   "id": "e32fb82b",
   "metadata": {},
   "source": [
    "Let's demonstrate the process with different numbers of samples and also for the function $f(x) = x^2$."
   ]
  },
  {
   "cell_type": "code",
   "execution_count": 11,
   "id": "12485135",
   "metadata": {},
   "outputs": [],
   "source": [
    "# Defining functions \n",
    "def f_x(x:float):return x\n",
    "def f_x_2(x:float):return x**2\n",
    "\n",
    "# Defining sampels iterations \n",
    "samples =  range(10,500,50)"
   ]
  },
  {
   "cell_type": "code",
   "execution_count": 13,
   "id": "dd3b3b82",
   "metadata": {},
   "outputs": [],
   "source": [
    "# Run for f(x)=x\n",
    "create_gif_of_MonteCarlo_simulation(start = 0, \n",
    "                                    end = 1, \n",
    "                                    func = f_x,\n",
    "                                    samples = samples)"
   ]
  },
  {
   "cell_type": "markdown",
   "id": "de4d862f",
   "metadata": {},
   "source": [
    "<p align=\"center\">\n",
    "    <img src=\"https://raw.githubusercontent.com/razisamuely/DataScience-TakeHomeAssignment-FunctionEstimation/main/data/MonteCarlo_simulation_y_%3D_x.gif\"  width=\"300\" height=\"230\">\n",
    "</p>"
   ]
  },
  {
   "cell_type": "code",
   "execution_count": 15,
   "id": "0fb0dcf3",
   "metadata": {},
   "outputs": [],
   "source": [
    "# Run for f(x)=x^2\n",
    "create_gif_of_MonteCarlo_simulation(start = 0, \n",
    "                                    end = 1, \n",
    "                                    func = f_x_2,\n",
    "                                    samples = samples)"
   ]
  },
  {
   "cell_type": "markdown",
   "id": "d3d86faf",
   "metadata": {},
   "source": [
    "<p align=\"center\">\n",
    "    <img src=\"https://raw.githubusercontent.com/razisamuely/DataScience-TakeHomeAssignment-FunctionEstimation/main/data/MonteCarlo_simulation_y_%3D_x_2.gif\"  width=\"300\" height=\"230\">\n",
    "</p>"
   ]
  },
  {
   "cell_type": "markdown",
   "id": "02fbd392",
   "metadata": {},
   "source": [
    "It appears that we are getting close to the real value using the current method. However, we can improve the accuracy by increasing the number of sampled points or by averaging the results of multiple experiments with the same number of samples.\n",
    "\n",
    "Increasing the number of samples will provide a more accurate estimate of the proportion of points that fall under the function. The more samples we take, the closer the estimate will be to the true value.\n",
    "\n",
    "Averaging the results of multiple experiments can also improve the accuracy of the estimate. By conducting multiple experiments with the same number of samples and averaging the results, we can reduce the impact of any individual experiment that may have deviated from the expected value. This can provide a more reliable estimate of the proportion of points that fall under the function."
   ]
  },
  {
   "cell_type": "code",
   "execution_count": 16,
   "id": "070b671a",
   "metadata": {},
   "outputs": [
    {
     "name": "stdout",
     "output_type": "stream",
     "text": [
      "0.500113\n"
     ]
    }
   ],
   "source": [
    "# 1 \n",
    "k = 1000000\n",
    "uniform_sample = [ np.random.uniform(0,1,2) for i in range(k)]\n",
    "\n",
    "# 2\n",
    "c = 0 \n",
    "for x,y in uniform_sample:\n",
    "    c += check_if_below(x =x , y =y ,func = f_x)  \n",
    "    \n",
    "# 3. Calculate the propotion \n",
    "p = c/k\n",
    "print(p)"
   ]
  },
  {
   "cell_type": "markdown",
   "id": "52f64e60",
   "metadata": {},
   "source": [
    "Increasing the number of samples resulted in a much closer estimate to the true value."
   ]
  },
  {
   "cell_type": "markdown",
   "id": "ae726db5",
   "metadata": {},
   "source": [
    "### Follow-up question:\n",
    "\n",
    "After presenting the Monte Carlo simulation, a follow-up question was asked: \"Can we make any statements about the estimated area and the real value\""
   ]
  },
  {
   "cell_type": "markdown",
   "id": "9e35a658",
   "metadata": {},
   "source": [
    "\n",
    "Yes, after presenting the Monte Carlo simulation, we can make statements about the estimated area and the real value.\n",
    "\n",
    "We can use statistical methods to build a confidence interval for the proportion of points that fall under the function, with respect to a chosen error probability $\\alpha$. This interval will give us a range of values in which we can be confident the true proportion falls.\n",
    "\n",
    "For example, if we use a 95% confidence interval, we can say that we are 95% confident that the true proportion of points that fall under the function falls within the interval. This provides a measure of the uncertainty in our estimate, and allows us to make statements about the likely range of values for the true area.\n",
    "\n",
    "It's important to note that the width of the confidence interval will depend on the number of samples used in the simulation, as well as the complexity of the function being estimated. In general, a larger number of samples will result in a narrower confidence interval and a more accurate estimate of the true area.\n",
    "\n"
   ]
  },
  {
   "cell_type": "code",
   "execution_count": 17,
   "id": "39f9e42d",
   "metadata": {},
   "outputs": [
    {
     "name": "stdout",
     "output_type": "stream",
     "text": [
      "(0.4991330180327568, 0.5010929819672433)\n"
     ]
    }
   ],
   "source": [
    "# Confidence interval with 56 successes in 100 trials and alpha = 0.05\n",
    "alpha = 0.05\n",
    "ci = proportion_confint(count=c, nobs=k, alpha=alpha)\n",
    "print(ci)"
   ]
  },
  {
   "cell_type": "markdown",
   "id": "6a67f2cc",
   "metadata": {},
   "source": [
    "# Solution 2 - Binary seaerch "
   ]
  },
  {
   "cell_type": "markdown",
   "id": "e57c34ce",
   "metadata": {},
   "source": [
    "![image](https://d18l82el6cdm1i.cloudfront.net/uploads/bePceUMnSG-binary_search_gif.gif)"
   ]
  },
  {
   "cell_type": "markdown",
   "id": "df5a8bbf",
   "metadata": {},
   "source": [
    "With stochastic methods, such as the `Monte Carlo simulation` mentioned above, the estimated area changes for different iterations with the same predefined parameters. This is because the process involves generating random samples to estimate the area."
   ]
  },
  {
   "cell_type": "markdown",
   "id": "bf9cb801",
   "metadata": {},
   "source": [
    "However, if we want to use determenistic method as `binary search` to find the y values for each x that are close enough to the real value, we can do so by defining a function that takes a value of x as input and returns the corresponding y value that satisfies the condition (i.e., falls below the unknown function). \n",
    "\n",
    "We can start by setting the initial lower and upper bounds of the search interval to 0 and 1, respectively, and iteratively narrow down the interval until we reach the desired level of precision."
   ]
  },
  {
   "cell_type": "markdown",
   "id": "a7689438",
   "metadata": {},
   "source": [
    "Here we will define some distance $\\epsilon$  for max distance from true value."
   ]
  },
  {
   "cell_type": "markdown",
   "id": "b86ee7ad",
   "metadata": {},
   "source": [
    "```\n",
    "def find_y_value(x,func,epsilon,lower_bound = 0, upper_bound =1):\n",
    "    while True:\n",
    "        mid_point = (lower_bound + upper_bound) / 2\n",
    "        if check_if_below(x, mid_point,func = func):\n",
    "            if upper_bound - mid_point < epsilon:\n",
    "                return mid_point\n",
    "            lower_bound = mid_point\n",
    "        else:\n",
    "            if mid_point - lower_bound < epsilon:\n",
    "                return mid_point\n",
    "            upper_bound = mid_point\n",
    "```"
   ]
  },
  {
   "cell_type": "markdown",
   "id": "df3ca12a",
   "metadata": {},
   "source": [
    "In this function, we start by setting the initial interval bounds to 0 and 1, and then we enter a while loop that iteratively narrows down the interval until we reach the desired level of precision (in this case, 0.0001). At each iteration, we calculate the midpoint of the current interval and check if the corresponding point (x, midpoint) falls below the unknown function. If it does, we update the lower bound of the interval to the midpoint; otherwise, we update the upper bound. We continue this process until the interval is narrow enough to satisfy the desired level of precision, at which point we return the midpoint as the estimated y value for the given x value.\n",
    "\n",
    "**Note** that this approach assumes that the function is continuous and that the area under the curve exists. If these conditions do not hold, the binary search approach may not be appropriate or may not converge to a satisfactory solution."
   ]
  },
  {
   "cell_type": "code",
   "execution_count": 18,
   "id": "aefab271",
   "metadata": {},
   "outputs": [],
   "source": [
    "epsilon = 0.001"
   ]
  },
  {
   "cell_type": "code",
   "execution_count": 19,
   "id": "1d546704",
   "metadata": {},
   "outputs": [
    {
     "data": {
      "text/plain": [
       "0.8994140625"
      ]
     },
     "execution_count": 19,
     "metadata": {},
     "output_type": "execute_result"
    }
   ],
   "source": [
    "find_y_value(x = 0.9,func = f_x, epsilon = epsilon)"
   ]
  },
  {
   "cell_type": "code",
   "execution_count": 21,
   "id": "904e04b6",
   "metadata": {},
   "outputs": [],
   "source": [
    "x_space = np.arange(0,1, 0.05)\n",
    "y_hats = []\n",
    "\n",
    "for x in x_space:\n",
    "    y_hat = find_y_value_with_plot(x =x , func = f_x, epsilon = epsilon,lower_bound = 0, upper_bound =1)\n",
    "    y_hats.append(y_hat)"
   ]
  },
  {
   "cell_type": "markdown",
   "id": "6f7c9070",
   "metadata": {},
   "source": [
    "![image](https://raw.githubusercontent.com/razisamuely/DataScience-TakeHomeAssignment-FunctionEstimation/main/data/binary_search_on_fx_%3D_x.gif)"
   ]
  },
  {
   "cell_type": "markdown",
   "id": "3aec62b6",
   "metadata": {},
   "source": [
    "Calculating area under the function "
   ]
  },
  {
   "cell_type": "code",
   "execution_count": 22,
   "id": "37ee619c",
   "metadata": {},
   "outputs": [
    {
     "data": {
      "text/plain": [
       "5.0781250000000004e-05"
      ]
     },
     "execution_count": 22,
     "metadata": {},
     "output_type": "execute_result"
    }
   ],
   "source": [
    "sum([i * epsilon for i in y_hats])"
   ]
  },
  {
   "cell_type": "markdown",
   "id": "8a64eff2",
   "metadata": {},
   "source": [
    "**Question** : What is the complexity of the abov binary search ? "
   ]
  },
  {
   "cell_type": "markdown",
   "id": "0d7e9da2",
   "metadata": {},
   "source": [
    "**Answer** : \n",
    "1. Each iteration the search rang reduced by 0.5 (first (0,1) then (0.5,1) or (0,0.5) etc, so after n iteration, the the search range is $0.5^n$\n",
    "2. Then stop rule is continue search till the search range is smaller then $\\epsilon$\n",
    "3. So $0.5^n >= \\epsilon \\rightarrow n = log_{0.5}(\\epsilon)$"
   ]
  },
  {
   "cell_type": "code",
   "execution_count": null,
   "id": "09a2d284",
   "metadata": {},
   "outputs": [],
   "source": []
  }
 ],
 "metadata": {
  "kernelspec": {
   "display_name": "Python 3 (ipykernel)",
   "language": "python",
   "name": "python3"
  },
  "language_info": {
   "codemirror_mode": {
    "name": "ipython",
    "version": 3
   },
   "file_extension": ".py",
   "mimetype": "text/x-python",
   "name": "python",
   "nbconvert_exporter": "python",
   "pygments_lexer": "ipython3",
   "version": "3.7.16"
  }
 },
 "nbformat": 4,
 "nbformat_minor": 5
}
