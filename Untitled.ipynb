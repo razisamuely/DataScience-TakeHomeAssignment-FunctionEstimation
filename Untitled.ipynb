{
 "cells": [
  {
   "cell_type": "markdown",
   "id": "a8fc8665",
   "metadata": {},
   "source": [
    "There is unkown continuse function x: $\\rightarrow$ y such that x $\\in$ [0,1] and y $\\in$ [0,1]\n",
    "\n",
    "There is function `check_if_below` which for each x,y combination is returning if `False` if the point is above the function or `True` if its below the function.\n",
    "\n",
    "Your mission is to estimate the area under this function\n",
    "\n",
    "for example :\n",
    "for f(x) = x \n",
    "we will get 0 for the following points (0.1,0.2), (0.1,0.8),(0.6,0.8) \n",
    "and 1 for the following points (0.1,0.05), (0.1,0.02),(0.6,0.1) \n"
   ]
  },
  {
   "cell_type": "code",
   "execution_count": 1,
   "id": "b7dc2311",
   "metadata": {},
   "outputs": [],
   "source": [
    "import seaborn as sns\n",
    "import pandas as pd \n",
    "import numpy as np\n",
    "import matplotlib.pyplot as plt\n",
    "sns.set_theme()\n",
    "from IPython.display import clear_output\n",
    "import time \n",
    "from statsmodels.stats.proportion import proportion_confint\n",
    "from utils import check_if_below,binary_search_with_plot, binary_search, create_gif_of_MonteCarlo_simulation\n"
   ]
  },
  {
   "cell_type": "code",
   "execution_count": null,
   "id": "e543ef25",
   "metadata": {},
   "outputs": [],
   "source": []
  },
  {
   "cell_type": "code",
   "execution_count": 17,
   "id": "7d874363",
   "metadata": {},
   "outputs": [],
   "source": [
    "for j in np.arange(0.1,6, 0.03):\n",
    "    # Defininf function f(x) = x \n",
    "    def example_function(x:float):\n",
    "        return x ** j\n",
    "\n",
    "    # Creating data \n",
    "    x = np.arange(0,1, 0.01)\n",
    "    y = [example_function(x =i ) for i in x]\n",
    "    df = pd.DataFrame({\"x\":x, \"y\" :y})\n",
    "\n",
    "    # Ploting f(x) = x line\n",
    "    sns.lineplot(data=df, x=\"x\", y=\"y\")\n",
    "\n",
    "    # Plot below and bove points \n",
    "    points = [(0.1,0.2),(0.1,0.8),(0.6,0.8),(0.5,0.5),  (0.5,0.5),\n",
    "              (0.1,0.05), (0.1,0.02),(0.6,0.1) ,(0.9,0.9),(0.95,0.05) \n",
    "             ]\n",
    "    for x,y in points:\n",
    "        color = 'blue' if check_if_below(x =x , y =y, func = example_function) else 'red'\n",
    "        plt.scatter(x, y, c=color)\n",
    "        \n",
    "    plt.xlim(0,1)\n",
    "    plt.ylim(0,1)\n",
    "\n",
    "\n",
    "\n",
    "    plt.show()\n",
    "    clear_output(wait=True)\n"
   ]
  },
  {
   "cell_type": "markdown",
   "id": "cfcf3458",
   "metadata": {},
   "source": [
    "![image](https://raw.githubusercontent.com/razisamuely/DataScience-TakeHomeAssignment-FunctionEstimation/main/data/random_continuse_function_detect_below_abov_points.gif)"
   ]
  },
  {
   "cell_type": "markdown",
   "id": "38b2518e",
   "metadata": {},
   "source": [
    "# Solutio1 - Monte carlo simulation\n"
   ]
  },
  {
   "cell_type": "markdown",
   "id": "d2a4f74f",
   "metadata": {},
   "source": [
    "The maximum area under the the unknown function is one.\n",
    "That allows us to use sampeling and estimate the propotion of points that got True. \n",
    "So in order to do so the steps are:\n",
    "1. Sample out of uniform distribution (0,1) n points \n",
    "2. Per point test if its fall above or below the unkown function\n",
    "3. Calculate the proportion of points under the function\n",
    "\n",
    "For simplicity lets hence that the unknown function is f(x) = x cause we know that the area under this function is 0.5."
   ]
  },
  {
   "cell_type": "code",
   "execution_count": 2,
   "id": "a54767c0",
   "metadata": {},
   "outputs": [],
   "source": [
    "def f_x(x:float):return x"
   ]
  },
  {
   "cell_type": "code",
   "execution_count": 3,
   "id": "5f68771a",
   "metadata": {},
   "outputs": [],
   "source": [
    "# 1. Sampeling \n",
    "k = 1000\n",
    "uniform_sample = [ np.random.uniform(0,1,2) for i in range(k)]"
   ]
  },
  {
   "cell_type": "code",
   "execution_count": 4,
   "id": "6942ee77",
   "metadata": {},
   "outputs": [],
   "source": [
    "# 2. Per point test if its fall above or below the unkown function\n",
    "c = 0 \n",
    "for x,y in uniform_sample:\n",
    "    c += check_if_below(x =x , y =y ,func = f_x)     "
   ]
  },
  {
   "cell_type": "code",
   "execution_count": 5,
   "id": "7250b2ba",
   "metadata": {},
   "outputs": [
    {
     "name": "stdout",
     "output_type": "stream",
     "text": [
      "0.489\n"
     ]
    }
   ],
   "source": [
    "# 3. Calculate the propotion \n",
    "p = c/k\n",
    "print(p)"
   ]
  },
  {
   "cell_type": "code",
   "execution_count": 3,
   "id": "12485135",
   "metadata": {},
   "outputs": [],
   "source": [
    "def f_x(x:float):return x\n",
    "def f_x_2(x:float):return x**2\n",
    "samples =  range(10,500,50)"
   ]
  },
  {
   "cell_type": "code",
   "execution_count": 13,
   "id": "dd3b3b82",
   "metadata": {},
   "outputs": [],
   "source": [
    "create_gif_of_MonteCarlo_simulation(start = 0, \n",
    "                                    end = 1, \n",
    "                                    func = f_x,\n",
    "                                    samples = samples)"
   ]
  },
  {
   "cell_type": "markdown",
   "id": "de4d862f",
   "metadata": {},
   "source": [
    "![image](https://raw.githubusercontent.com/razisamuely/DataScience-TakeHomeAssignment-FunctionEstimation/main/data/MonteCarlo_simulation_y_%3D_x.gif)"
   ]
  },
  {
   "cell_type": "code",
   "execution_count": 15,
   "id": "0fb0dcf3",
   "metadata": {},
   "outputs": [],
   "source": [
    "create_gif_of_MonteCarlo_simulation(start = 0, \n",
    "                                    end = 1, \n",
    "                                    func = f_x_2,\n",
    "                                    samples = samples)"
   ]
  },
  {
   "cell_type": "markdown",
   "id": "5d14e851",
   "metadata": {},
   "source": [
    "![image](https://raw.githubusercontent.com/razisamuely/DataScience-TakeHomeAssignment-FunctionEstimation/main/data/MonteCarlo_simulation_y_%3D_x_2.gif)"
   ]
  },
  {
   "cell_type": "markdown",
   "id": "02fbd392",
   "metadata": {},
   "source": [
    "So as it's looks like, we are close to the real value, so in order to do better we can increas the the nujmber of sampeld point , or averege results of same n experiments."
   ]
  },
  {
   "cell_type": "markdown",
   "id": "b0908582",
   "metadata": {},
   "source": [
    "Lets increas number of sampels k and see if we doing better in estimation "
   ]
  },
  {
   "cell_type": "code",
   "execution_count": 9,
   "id": "070b671a",
   "metadata": {},
   "outputs": [
    {
     "name": "stdout",
     "output_type": "stream",
     "text": [
      "0.49962\n"
     ]
    }
   ],
   "source": [
    "# 1 \n",
    "k = 1000000\n",
    "uniform_sample = [ np.random.uniform(0,1,2) for i in range(k)]\n",
    "\n",
    "# 2\n",
    "c = 0 \n",
    "for x,y in uniform_sample:\n",
    "    c += check_if_below(x =x , y =y ,func = f_x)  \n",
    "    \n",
    "# 3. Calculate the propotion \n",
    "p = c/k\n",
    "print(p)"
   ]
  },
  {
   "cell_type": "markdown",
   "id": "52f64e60",
   "metadata": {},
   "source": [
    "much closer !"
   ]
  },
  {
   "cell_type": "markdown",
   "id": "9e35a658",
   "metadata": {},
   "source": [
    "Can we say something about the estimatet area and the real value? (Was asking after presnting the montte carlo simulation)\n",
    "\n",
    "Sure, we can built confidence intereval for proportion with respect to $\\alpha$ (error probability) and say that the real area value is somewhere around the estimated area with some with some confidence.\n",
    "\n"
   ]
  },
  {
   "cell_type": "code",
   "execution_count": 7,
   "id": "39f9e42d",
   "metadata": {},
   "outputs": [
    {
     "name": "stdout",
     "output_type": "stream",
     "text": [
      "(0.4620132855292576, 0.5239867144707424)\n"
     ]
    }
   ],
   "source": [
    "#calculate 90% confidence interval with 56 successes in 100 trials\n",
    "alpha = 0.05\n",
    "ci = proportion_confint(count=c, nobs=k, alpha=alpha)\n",
    "print(ci)"
   ]
  },
  {
   "cell_type": "markdown",
   "id": "6a67f2cc",
   "metadata": {},
   "source": [
    "# Solution 2 - Binary seaerch "
   ]
  },
  {
   "cell_type": "markdown",
   "id": "e57c34ce",
   "metadata": {},
   "source": [
    "![image](https://d18l82el6cdm1i.cloudfront.net/uploads/bePceUMnSG-binary_search_gif.gif)"
   ]
  },
  {
   "cell_type": "markdown",
   "id": "47a2e258",
   "metadata": {},
   "source": [
    "In these solution would be determenitic, meaning, that the estimated are would not changhe in differeant iteration with same predifnde parameters.\n",
    "Here for each x we would like to point on y values till we close enough to the real value.\n",
    "In order to do so we will use ` Binary search`.\n",
    "\n"
   ]
  },
  {
   "cell_type": "markdown",
   "id": "a7689438",
   "metadata": {},
   "source": [
    "Here we will define some distnace $\\epsilon$ for for max distance from true value."
   ]
  },
  {
   "cell_type": "code",
   "execution_count": 3,
   "id": "536ca07e",
   "metadata": {},
   "outputs": [],
   "source": [
    "def f_x(x:float):return x"
   ]
  },
  {
   "cell_type": "code",
   "execution_count": 4,
   "id": "f52f5978",
   "metadata": {},
   "outputs": [],
   "source": [
    "epsilon = 0.001"
   ]
  },
  {
   "cell_type": "code",
   "execution_count": 5,
   "id": "1d546704",
   "metadata": {},
   "outputs": [
    {
     "data": {
      "text/plain": [
       "0.89990234375"
      ]
     },
     "execution_count": 5,
     "metadata": {},
     "output_type": "execute_result"
    }
   ],
   "source": [
    "x = 0.9\n",
    "binary_search(low = 0, high = 1, x =x , epsilon = epsilon, func = f_x)\n"
   ]
  },
  {
   "cell_type": "code",
   "execution_count": 16,
   "id": "d6c15e01",
   "metadata": {},
   "outputs": [],
   "source": [
    "epsilon = 0.05\n",
    "x_space = np.arange(0,1, epsilon)\n",
    "y_space = np.arange(0,1, epsilon)\n",
    "y_hats = []\n",
    "for x in x_space:\n",
    "    y_hat = binary_search_with_plot(low = 0, high = 1, x =x , epsilon = epsilon, func = f_x, \n",
    "                                    x_space =x_space, y_space = y_space)\n",
    "    y_hats.append(y_hat)\n",
    "    \n"
   ]
  },
  {
   "cell_type": "markdown",
   "id": "6f7c9070",
   "metadata": {},
   "source": [
    "![image](https://raw.githubusercontent.com/razisamuely/DataScience-TakeHomeAssignment-FunctionEstimation/main/data/binary_search_on_fx_%3D_x.gif)"
   ]
  },
  {
   "cell_type": "markdown",
   "id": "3aec62b6",
   "metadata": {},
   "source": [
    "Calculating area under the function "
   ]
  },
  {
   "cell_type": "code",
   "execution_count": 7,
   "id": "37ee619c",
   "metadata": {},
   "outputs": [
    {
     "data": {
      "text/plain": [
       "0.47343750000000007"
      ]
     },
     "execution_count": 7,
     "metadata": {},
     "output_type": "execute_result"
    }
   ],
   "source": [
    "sum([i * epsilon for i in y_hats])"
   ]
  },
  {
   "cell_type": "markdown",
   "id": "8a64eff2",
   "metadata": {},
   "source": [
    "**Question** : What is the complexity of the abov binary search ? "
   ]
  },
  {
   "cell_type": "markdown",
   "id": "0d7e9da2",
   "metadata": {},
   "source": [
    "**Answer** : \n",
    "1. Each iteration the search rang reduced by 0.5 (first (0,1) then (0.5,1) or (0,0.5) etc, so after n iteration, the the search range is $0.5^n$\n",
    "2. Then stop rule is continue search till the search range is smaller then $\\epsilon$\n",
    "3. So $0.5^n >= \\epsilon \\rightarrow n = log_{0.5}(\\epsilon)$"
   ]
  }
 ],
 "metadata": {
  "kernelspec": {
   "display_name": "Python 3 (ipykernel)",
   "language": "python",
   "name": "python3"
  },
  "language_info": {
   "codemirror_mode": {
    "name": "ipython",
    "version": 3
   },
   "file_extension": ".py",
   "mimetype": "text/x-python",
   "name": "python",
   "nbconvert_exporter": "python",
   "pygments_lexer": "ipython3",
   "version": "3.7.16"
  }
 },
 "nbformat": 4,
 "nbformat_minor": 5
}
